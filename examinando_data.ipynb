{
 "cells": [
  {
   "cell_type": "code",
   "execution_count": 1,
   "metadata": {},
   "outputs": [],
   "source": [
    "import warnings\n",
    "import numpy as np\n",
    "import pandas as pd\n",
    "import seaborn as sns\n",
    "import matplotlib.pyplot as plt\n",
    "from pylab import rcParams\n",
    "from time import sleep\n",
    "from datetime import datetime\n",
    "import seaborn as sns\n",
    "\n",
    "warnings.filterwarnings(\"ignore\")"
   ]
  },
  {
   "cell_type": "code",
   "execution_count": 2,
   "metadata": {},
   "outputs": [],
   "source": [
    "%matplotlib inline\n",
    "rcParams['figure.figsize'] = 10, 8\n",
    "sns.set_style('whitegrid')"
   ]
  },
  {
   "cell_type": "code",
   "execution_count": 3,
   "metadata": {},
   "outputs": [
    {
     "output_type": "stream",
     "name": "stdout",
     "text": [
      "Refresh Finished! Last Update:  22/06/2021 19:26:46\n"
     ]
    }
   ],
   "source": [
    "codigos = ['2021','1920','1819','1718']\n",
    "\n",
    "lista_dfs = []\n",
    "for cod in codigos:\n",
    "  try:\n",
    "    url='https://www.football-data.co.uk/mmz4281/{}/E0.csv'.format(cod)\n",
    "    df=pd.read_csv(url)\n",
    "    lista_dfs.append(df)\n",
    "    sleep(1)\n",
    "  except Exception:\n",
    "    pass    \n",
    "\n",
    "df=pd.concat(lista_dfs)\n",
    "now = datetime.now()\n",
    "dt_string = now.strftime(\"%d/%m/%Y %H:%M:%S\")\n",
    "print(\"Refresh Finished! Last Update: \",dt_string)"
   ]
  },
  {
   "cell_type": "code",
   "execution_count": 4,
   "metadata": {},
   "outputs": [
    {
     "output_type": "execute_result",
     "data": {
      "text/plain": [
       "  Div        Date   Time        HomeTeam     AwayTeam  FTHG  FTAG FTR  HTHG  \\\n",
       "0  E0  12/09/2020  12:30          Fulham      Arsenal     0     3   A     0   \n",
       "1  E0  12/09/2020  15:00  Crystal Palace  Southampton     1     0   H     1   \n",
       "2  E0  12/09/2020  17:30       Liverpool        Leeds     4     3   H     3   \n",
       "3  E0  12/09/2020  20:00        West Ham    Newcastle     0     2   A     0   \n",
       "4  E0  13/09/2020  14:00       West Brom    Leicester     0     3   A     0   \n",
       "\n",
       "   HTAG  ... BbAv<2.5 BbAH  BbAHh  BbMxAHH  BbAvAHH  BbMxAHA  BbAvAHA  LBH  \\\n",
       "0     1  ...      NaN  NaN    NaN      NaN      NaN      NaN      NaN  NaN   \n",
       "1     0  ...      NaN  NaN    NaN      NaN      NaN      NaN      NaN  NaN   \n",
       "2     2  ...      NaN  NaN    NaN      NaN      NaN      NaN      NaN  NaN   \n",
       "3     0  ...      NaN  NaN    NaN      NaN      NaN      NaN      NaN  NaN   \n",
       "4     0  ...      NaN  NaN    NaN      NaN      NaN      NaN      NaN  NaN   \n",
       "\n",
       "   LBD  LBA  \n",
       "0  NaN  NaN  \n",
       "1  NaN  NaN  \n",
       "2  NaN  NaN  \n",
       "3  NaN  NaN  \n",
       "4  NaN  NaN  \n",
       "\n",
       "[5 rows x 127 columns]"
      ],
      "text/html": "<div>\n<style scoped>\n    .dataframe tbody tr th:only-of-type {\n        vertical-align: middle;\n    }\n\n    .dataframe tbody tr th {\n        vertical-align: top;\n    }\n\n    .dataframe thead th {\n        text-align: right;\n    }\n</style>\n<table border=\"1\" class=\"dataframe\">\n  <thead>\n    <tr style=\"text-align: right;\">\n      <th></th>\n      <th>Div</th>\n      <th>Date</th>\n      <th>Time</th>\n      <th>HomeTeam</th>\n      <th>AwayTeam</th>\n      <th>FTHG</th>\n      <th>FTAG</th>\n      <th>FTR</th>\n      <th>HTHG</th>\n      <th>HTAG</th>\n      <th>...</th>\n      <th>BbAv&lt;2.5</th>\n      <th>BbAH</th>\n      <th>BbAHh</th>\n      <th>BbMxAHH</th>\n      <th>BbAvAHH</th>\n      <th>BbMxAHA</th>\n      <th>BbAvAHA</th>\n      <th>LBH</th>\n      <th>LBD</th>\n      <th>LBA</th>\n    </tr>\n  </thead>\n  <tbody>\n    <tr>\n      <th>0</th>\n      <td>E0</td>\n      <td>12/09/2020</td>\n      <td>12:30</td>\n      <td>Fulham</td>\n      <td>Arsenal</td>\n      <td>0</td>\n      <td>3</td>\n      <td>A</td>\n      <td>0</td>\n      <td>1</td>\n      <td>...</td>\n      <td>NaN</td>\n      <td>NaN</td>\n      <td>NaN</td>\n      <td>NaN</td>\n      <td>NaN</td>\n      <td>NaN</td>\n      <td>NaN</td>\n      <td>NaN</td>\n      <td>NaN</td>\n      <td>NaN</td>\n    </tr>\n    <tr>\n      <th>1</th>\n      <td>E0</td>\n      <td>12/09/2020</td>\n      <td>15:00</td>\n      <td>Crystal Palace</td>\n      <td>Southampton</td>\n      <td>1</td>\n      <td>0</td>\n      <td>H</td>\n      <td>1</td>\n      <td>0</td>\n      <td>...</td>\n      <td>NaN</td>\n      <td>NaN</td>\n      <td>NaN</td>\n      <td>NaN</td>\n      <td>NaN</td>\n      <td>NaN</td>\n      <td>NaN</td>\n      <td>NaN</td>\n      <td>NaN</td>\n      <td>NaN</td>\n    </tr>\n    <tr>\n      <th>2</th>\n      <td>E0</td>\n      <td>12/09/2020</td>\n      <td>17:30</td>\n      <td>Liverpool</td>\n      <td>Leeds</td>\n      <td>4</td>\n      <td>3</td>\n      <td>H</td>\n      <td>3</td>\n      <td>2</td>\n      <td>...</td>\n      <td>NaN</td>\n      <td>NaN</td>\n      <td>NaN</td>\n      <td>NaN</td>\n      <td>NaN</td>\n      <td>NaN</td>\n      <td>NaN</td>\n      <td>NaN</td>\n      <td>NaN</td>\n      <td>NaN</td>\n    </tr>\n    <tr>\n      <th>3</th>\n      <td>E0</td>\n      <td>12/09/2020</td>\n      <td>20:00</td>\n      <td>West Ham</td>\n      <td>Newcastle</td>\n      <td>0</td>\n      <td>2</td>\n      <td>A</td>\n      <td>0</td>\n      <td>0</td>\n      <td>...</td>\n      <td>NaN</td>\n      <td>NaN</td>\n      <td>NaN</td>\n      <td>NaN</td>\n      <td>NaN</td>\n      <td>NaN</td>\n      <td>NaN</td>\n      <td>NaN</td>\n      <td>NaN</td>\n      <td>NaN</td>\n    </tr>\n    <tr>\n      <th>4</th>\n      <td>E0</td>\n      <td>13/09/2020</td>\n      <td>14:00</td>\n      <td>West Brom</td>\n      <td>Leicester</td>\n      <td>0</td>\n      <td>3</td>\n      <td>A</td>\n      <td>0</td>\n      <td>0</td>\n      <td>...</td>\n      <td>NaN</td>\n      <td>NaN</td>\n      <td>NaN</td>\n      <td>NaN</td>\n      <td>NaN</td>\n      <td>NaN</td>\n      <td>NaN</td>\n      <td>NaN</td>\n      <td>NaN</td>\n      <td>NaN</td>\n    </tr>\n  </tbody>\n</table>\n<p>5 rows × 127 columns</p>\n</div>"
     },
     "metadata": {},
     "execution_count": 4
    }
   ],
   "source": [
    "df.head()"
   ]
  },
  {
   "cell_type": "code",
   "execution_count": 5,
   "metadata": {},
   "outputs": [
    {
     "output_type": "execute_result",
     "data": {
      "text/plain": [
       "(1520, 127)"
      ]
     },
     "metadata": {},
     "execution_count": 5
    }
   ],
   "source": [
    "df.shape"
   ]
  },
  {
   "source": [
    "#### 1. Tratar os NaN\n",
    "#### 2. Encoding dos times"
   ],
   "cell_type": "markdown",
   "metadata": {}
  },
  {
   "cell_type": "code",
   "execution_count": 6,
   "metadata": {},
   "outputs": [],
   "source": [
    "from copy import deepcopy\n",
    "\n",
    "df_2 = deepcopy(df)"
   ]
  },
  {
   "cell_type": "code",
   "execution_count": 7,
   "metadata": {},
   "outputs": [],
   "source": [
    "match_stat_columns = ['Div','Date','Time','HomeTeam','AwayTeam','FTHG','AG','FTAG','Res','FTR','HTHG','HTAG','HTR','HG','Match Statistics','Attendance','Referee','HS','AS','HST','AST','HHW','AHW','HC','AC','HF','AF','HFKC','AFKC','HO','AO','HY','AY','HR','AR','HBP','ABP ']\n",
    "\n",
    "bet_data_columns = ['B365H','B365D','B365A','BSH','BSD','BSA','BWH','BWD','BWA','GBH','GBD','GBA','IWH','IWD','IWA','LBH','LBD','LBA','PH','PSH','PD','PSD','PA','PSA','SOH','SOD','SOA','SBH','SBD','SBA','SJH','SJD','SJA','SYH','SYD','SYA','VCH','VCD','VCA','WHH','WHD','WHA','Bb1X2','BbMxH','BbAvH','BbMxD','BbAvD','BbMxA','BbAvA','MaxH','MaxD','MaxA','AvgH','AvgD','AvgA','BbOU','BbMx>2.5','BbAv>2.5','BbMx<2.5','BbAv<2.5','GB>2.5','GB<2.5','B365>2.5','B365<2.5','P>2.5','P<2.5','Max>2.5','Max<2.5','Avg>2.5','Avg<2.5','BbAH','BbAHh','AHh','BbMxAHH','BbAvAHH','BbMxAHA','BbAvAHA','GBAHH','GBAHA','GBAH','LBAHH','LBAHA','LBAH','B365AHH','B365AHA','B365AH','PAHH','PAHA','MaxAHH','MaxAHA','AvgAHH','AvgAHA']"
   ]
  },
  {
   "cell_type": "code",
   "execution_count": 8,
   "metadata": {},
   "outputs": [],
   "source": [
    "not_in = ['LBH', 'LBD', 'LBA', 'Bb1X2', 'BbMxH', 'BbAvH', 'BbMxD', 'BbAvD', 'BbMxA', 'BbAvA' 'MaxH', 'MaxD', 'MaxA', 'AvgH', 'AvgD', 'AvgA', 'BbOU', 'BbMx>2.5', 'BbAv>2.5' 'BbMx<2.5', 'BbAv<2.5', 'B365>2.5', 'B365<2.5', 'P>2.5', 'P<2.5', 'Max>2.5' 'Max<2.5', 'Avg>2.5', 'Avg<2.5', 'BbAH', 'BbAHh', 'AHh', 'BbMxAHH', 'BbAvAHH' 'BbMxAHA', 'BbAvAHA', 'B365AHH', 'B365AHA', 'PAHH', 'PAHA', 'MaxAHH', 'MaxAHA' 'AvgAHH', 'AvgAHA', 'BSH', 'BSD', 'BSA', 'GBH', 'GBD', 'GBA', 'PH', 'PD', 'PA', 'SOH', 'SOD', 'SOA', 'SBH', 'SBD', 'SBA', 'SJH', 'SJD', 'SJA', 'SYH', 'SYD', 'SYA', 'BbAvA', 'MaxH', 'BbAv>2.5', 'BbMx<2.5', 'GB>2.5', 'GB<2.5', 'Max>2.5', 'Max<2.5', 'BbAvAHH', 'BbMxAHA', 'GBAHH', 'GBAHA', 'GBAH', 'LBAHH', 'LBAHA', 'LBAH', 'B365AH', 'MaxAHA', 'AvgAHH']\n",
    "neo_bet = []\n",
    "\n",
    "for column in bet_data_columns:\n",
    "    if column not in not_in:\n",
    "        neo_bet.append(column)"
   ]
  },
  {
   "cell_type": "code",
   "execution_count": 9,
   "metadata": {},
   "outputs": [],
   "source": [
    "df_2.drop(neo_bet, axis=1, inplace=True)\n",
    "df_2.drop(df_2.loc[df_2['Div']!='E0'].index, inplace=True)\n",
    "df_2.drop(['Date', 'Referee', 'Div'],axis=1, inplace=True)"
   ]
  },
  {
   "cell_type": "code",
   "execution_count": 126,
   "metadata": {},
   "outputs": [],
   "source": [
    "columns = df_2.columns"
   ]
  },
  {
   "cell_type": "code",
   "execution_count": 110,
   "metadata": {},
   "outputs": [
    {
     "output_type": "execute_result",
     "data": {
      "text/plain": [
       "    Div        HomeTeam     AwayTeam  FTHG  FTAG FTR  HTHG  HTAG HTR  HS  ...  \\\n",
       "0    E0          Fulham      Arsenal     0     3   A     0     1   A   5  ...   \n",
       "1    E0  Crystal Palace  Southampton     1     0   H     1     0   H   5  ...   \n",
       "2    E0       Liverpool        Leeds     4     3   H     3     2   H  22  ...   \n",
       "3    E0        West Ham    Newcastle     0     2   A     0     0   D  15  ...   \n",
       "4    E0       West Brom    Leicester     0     3   A     0     0   D   7  ...   \n",
       "..   ..             ...          ...   ...   ...  ..   ...   ...  ..  ..  ...   \n",
       "375  E0       Newcastle      Chelsea     3     0   H     1     0   H  16  ...   \n",
       "376  E0     Southampton     Man City     0     1   A     0     0   D   8  ...   \n",
       "377  E0         Swansea        Stoke     1     2   A     1     2   A  26  ...   \n",
       "378  E0       Tottenham    Leicester     5     4   H     1     2   A  14  ...   \n",
       "379  E0        West Ham      Everton     3     1   H     1     0   H  15  ...   \n",
       "\n",
       "     AF  HC  AC  HY  AY  HR  AR  PSCH  PSCD   PSCA  \n",
       "0    12   2   3   2   2   0   0  5.48  3.98   1.69  \n",
       "1    11   7   3   2   1   0   0  3.09  3.27   2.54  \n",
       "2     6   9   0   1   0   0   0  1.28  6.34  11.38  \n",
       "3     7   8   7   2   2   0   0  2.04  3.59   3.92  \n",
       "4     9   2   5   1   1   0   0  3.38  3.38   2.32  \n",
       "..   ..  ..  ..  ..  ..  ..  ..   ...   ...    ...  \n",
       "375  10   4   2   0   1   0   0  4.85  3.72   1.80  \n",
       "376  10   1  12   3   1   0   0  6.32  4.78   1.51  \n",
       "377   9   6   0   1   2   0   0  2.08  3.56   3.82  \n",
       "378  13   4   4   1   2   0   0  1.38  5.50   8.15  \n",
       "379  13   6   6   0   1   0   0  2.35  3.40   3.28  \n",
       "\n",
       "[1520 rows x 24 columns]"
      ],
      "text/html": "<div>\n<style scoped>\n    .dataframe tbody tr th:only-of-type {\n        vertical-align: middle;\n    }\n\n    .dataframe tbody tr th {\n        vertical-align: top;\n    }\n\n    .dataframe thead th {\n        text-align: right;\n    }\n</style>\n<table border=\"1\" class=\"dataframe\">\n  <thead>\n    <tr style=\"text-align: right;\">\n      <th></th>\n      <th>Div</th>\n      <th>HomeTeam</th>\n      <th>AwayTeam</th>\n      <th>FTHG</th>\n      <th>FTAG</th>\n      <th>FTR</th>\n      <th>HTHG</th>\n      <th>HTAG</th>\n      <th>HTR</th>\n      <th>HS</th>\n      <th>...</th>\n      <th>AF</th>\n      <th>HC</th>\n      <th>AC</th>\n      <th>HY</th>\n      <th>AY</th>\n      <th>HR</th>\n      <th>AR</th>\n      <th>PSCH</th>\n      <th>PSCD</th>\n      <th>PSCA</th>\n    </tr>\n  </thead>\n  <tbody>\n    <tr>\n      <th>0</th>\n      <td>E0</td>\n      <td>Fulham</td>\n      <td>Arsenal</td>\n      <td>0</td>\n      <td>3</td>\n      <td>A</td>\n      <td>0</td>\n      <td>1</td>\n      <td>A</td>\n      <td>5</td>\n      <td>...</td>\n      <td>12</td>\n      <td>2</td>\n      <td>3</td>\n      <td>2</td>\n      <td>2</td>\n      <td>0</td>\n      <td>0</td>\n      <td>5.48</td>\n      <td>3.98</td>\n      <td>1.69</td>\n    </tr>\n    <tr>\n      <th>1</th>\n      <td>E0</td>\n      <td>Crystal Palace</td>\n      <td>Southampton</td>\n      <td>1</td>\n      <td>0</td>\n      <td>H</td>\n      <td>1</td>\n      <td>0</td>\n      <td>H</td>\n      <td>5</td>\n      <td>...</td>\n      <td>11</td>\n      <td>7</td>\n      <td>3</td>\n      <td>2</td>\n      <td>1</td>\n      <td>0</td>\n      <td>0</td>\n      <td>3.09</td>\n      <td>3.27</td>\n      <td>2.54</td>\n    </tr>\n    <tr>\n      <th>2</th>\n      <td>E0</td>\n      <td>Liverpool</td>\n      <td>Leeds</td>\n      <td>4</td>\n      <td>3</td>\n      <td>H</td>\n      <td>3</td>\n      <td>2</td>\n      <td>H</td>\n      <td>22</td>\n      <td>...</td>\n      <td>6</td>\n      <td>9</td>\n      <td>0</td>\n      <td>1</td>\n      <td>0</td>\n      <td>0</td>\n      <td>0</td>\n      <td>1.28</td>\n      <td>6.34</td>\n      <td>11.38</td>\n    </tr>\n    <tr>\n      <th>3</th>\n      <td>E0</td>\n      <td>West Ham</td>\n      <td>Newcastle</td>\n      <td>0</td>\n      <td>2</td>\n      <td>A</td>\n      <td>0</td>\n      <td>0</td>\n      <td>D</td>\n      <td>15</td>\n      <td>...</td>\n      <td>7</td>\n      <td>8</td>\n      <td>7</td>\n      <td>2</td>\n      <td>2</td>\n      <td>0</td>\n      <td>0</td>\n      <td>2.04</td>\n      <td>3.59</td>\n      <td>3.92</td>\n    </tr>\n    <tr>\n      <th>4</th>\n      <td>E0</td>\n      <td>West Brom</td>\n      <td>Leicester</td>\n      <td>0</td>\n      <td>3</td>\n      <td>A</td>\n      <td>0</td>\n      <td>0</td>\n      <td>D</td>\n      <td>7</td>\n      <td>...</td>\n      <td>9</td>\n      <td>2</td>\n      <td>5</td>\n      <td>1</td>\n      <td>1</td>\n      <td>0</td>\n      <td>0</td>\n      <td>3.38</td>\n      <td>3.38</td>\n      <td>2.32</td>\n    </tr>\n    <tr>\n      <th>...</th>\n      <td>...</td>\n      <td>...</td>\n      <td>...</td>\n      <td>...</td>\n      <td>...</td>\n      <td>...</td>\n      <td>...</td>\n      <td>...</td>\n      <td>...</td>\n      <td>...</td>\n      <td>...</td>\n      <td>...</td>\n      <td>...</td>\n      <td>...</td>\n      <td>...</td>\n      <td>...</td>\n      <td>...</td>\n      <td>...</td>\n      <td>...</td>\n      <td>...</td>\n      <td>...</td>\n    </tr>\n    <tr>\n      <th>375</th>\n      <td>E0</td>\n      <td>Newcastle</td>\n      <td>Chelsea</td>\n      <td>3</td>\n      <td>0</td>\n      <td>H</td>\n      <td>1</td>\n      <td>0</td>\n      <td>H</td>\n      <td>16</td>\n      <td>...</td>\n      <td>10</td>\n      <td>4</td>\n      <td>2</td>\n      <td>0</td>\n      <td>1</td>\n      <td>0</td>\n      <td>0</td>\n      <td>4.85</td>\n      <td>3.72</td>\n      <td>1.80</td>\n    </tr>\n    <tr>\n      <th>376</th>\n      <td>E0</td>\n      <td>Southampton</td>\n      <td>Man City</td>\n      <td>0</td>\n      <td>1</td>\n      <td>A</td>\n      <td>0</td>\n      <td>0</td>\n      <td>D</td>\n      <td>8</td>\n      <td>...</td>\n      <td>10</td>\n      <td>1</td>\n      <td>12</td>\n      <td>3</td>\n      <td>1</td>\n      <td>0</td>\n      <td>0</td>\n      <td>6.32</td>\n      <td>4.78</td>\n      <td>1.51</td>\n    </tr>\n    <tr>\n      <th>377</th>\n      <td>E0</td>\n      <td>Swansea</td>\n      <td>Stoke</td>\n      <td>1</td>\n      <td>2</td>\n      <td>A</td>\n      <td>1</td>\n      <td>2</td>\n      <td>A</td>\n      <td>26</td>\n      <td>...</td>\n      <td>9</td>\n      <td>6</td>\n      <td>0</td>\n      <td>1</td>\n      <td>2</td>\n      <td>0</td>\n      <td>0</td>\n      <td>2.08</td>\n      <td>3.56</td>\n      <td>3.82</td>\n    </tr>\n    <tr>\n      <th>378</th>\n      <td>E0</td>\n      <td>Tottenham</td>\n      <td>Leicester</td>\n      <td>5</td>\n      <td>4</td>\n      <td>H</td>\n      <td>1</td>\n      <td>2</td>\n      <td>A</td>\n      <td>14</td>\n      <td>...</td>\n      <td>13</td>\n      <td>4</td>\n      <td>4</td>\n      <td>1</td>\n      <td>2</td>\n      <td>0</td>\n      <td>0</td>\n      <td>1.38</td>\n      <td>5.50</td>\n      <td>8.15</td>\n    </tr>\n    <tr>\n      <th>379</th>\n      <td>E0</td>\n      <td>West Ham</td>\n      <td>Everton</td>\n      <td>3</td>\n      <td>1</td>\n      <td>H</td>\n      <td>1</td>\n      <td>0</td>\n      <td>H</td>\n      <td>15</td>\n      <td>...</td>\n      <td>13</td>\n      <td>6</td>\n      <td>6</td>\n      <td>0</td>\n      <td>1</td>\n      <td>0</td>\n      <td>0</td>\n      <td>2.35</td>\n      <td>3.40</td>\n      <td>3.28</td>\n    </tr>\n  </tbody>\n</table>\n<p>1520 rows × 24 columns</p>\n</div>"
     },
     "metadata": {},
     "execution_count": 110
    }
   ],
   "source": [
    "df_2"
   ]
  },
  {
   "cell_type": "code",
   "execution_count": 98,
   "metadata": {},
   "outputs": [
    {
     "output_type": "execute_result",
     "data": {
      "text/plain": [
       "              FTHG         FTAG         HTHG         HTAG           HS  \\\n",
       "count  1520.000000  1520.000000  1520.000000  1520.000000  1520.000000   \n",
       "mean      1.492105     1.236842     0.663158     0.561184    13.465789   \n",
       "std       1.307271     1.205303     0.842243     0.772431     5.651861   \n",
       "min       0.000000     0.000000     0.000000     0.000000     0.000000   \n",
       "25%       1.000000     0.000000     0.000000     0.000000     9.000000   \n",
       "50%       1.000000     1.000000     0.000000     0.000000    13.000000   \n",
       "75%       2.000000     2.000000     1.000000     1.000000    17.000000   \n",
       "max       9.000000     9.000000     5.000000     5.000000    36.000000   \n",
       "\n",
       "                AS          HST          AST           HF           AF  \\\n",
       "count  1520.000000  1520.000000  1520.000000  1520.000000  1520.000000   \n",
       "mean     11.191447     4.626974     3.943421    10.519737    10.580263   \n",
       "std       4.916236     2.625832     2.338832     3.418323     3.514496   \n",
       "min       0.000000     0.000000     0.000000     0.000000     1.000000   \n",
       "25%       7.000000     3.000000     2.000000     8.000000     8.000000   \n",
       "50%      11.000000     4.000000     4.000000    10.000000    10.000000   \n",
       "75%      14.000000     6.000000     5.000000    13.000000    13.000000   \n",
       "max      30.000000    15.000000    15.000000    23.000000    26.000000   \n",
       "\n",
       "                HC           AC           HY           AY           HR  \\\n",
       "count  1520.000000  1520.000000  1520.000000  1520.000000  1520.000000   \n",
       "mean      5.695395     4.665789     1.503947     1.615789     0.050000   \n",
       "std       3.056411     2.752008     1.208914     1.216959     0.223975   \n",
       "min       0.000000     0.000000     0.000000     0.000000     0.000000   \n",
       "25%       3.000000     3.000000     1.000000     1.000000     0.000000   \n",
       "50%       5.000000     4.000000     1.000000     1.000000     0.000000   \n",
       "75%       8.000000     6.000000     2.000000     2.000000     0.000000   \n",
       "max      18.000000    16.000000     6.000000     7.000000     2.000000   \n",
       "\n",
       "                AR         PSCH         PSCD         PSCA  \n",
       "count  1520.000000  1520.000000  1520.000000  1520.000000  \n",
       "mean      0.066447     3.184967     4.426493     5.137711  \n",
       "std       0.259499     2.630566     1.786473     5.115246  \n",
       "min       0.000000     1.040000     2.890000     1.090000  \n",
       "25%       0.000000     1.680000     3.420000     2.247500  \n",
       "50%       0.000000     2.350000     3.750000     3.385000  \n",
       "75%       0.000000     3.480000     4.660000     5.552500  \n",
       "max       2.000000    25.830000    18.500000    41.000000  "
      ],
      "text/html": "<div>\n<style scoped>\n    .dataframe tbody tr th:only-of-type {\n        vertical-align: middle;\n    }\n\n    .dataframe tbody tr th {\n        vertical-align: top;\n    }\n\n    .dataframe thead th {\n        text-align: right;\n    }\n</style>\n<table border=\"1\" class=\"dataframe\">\n  <thead>\n    <tr style=\"text-align: right;\">\n      <th></th>\n      <th>FTHG</th>\n      <th>FTAG</th>\n      <th>HTHG</th>\n      <th>HTAG</th>\n      <th>HS</th>\n      <th>AS</th>\n      <th>HST</th>\n      <th>AST</th>\n      <th>HF</th>\n      <th>AF</th>\n      <th>HC</th>\n      <th>AC</th>\n      <th>HY</th>\n      <th>AY</th>\n      <th>HR</th>\n      <th>AR</th>\n      <th>PSCH</th>\n      <th>PSCD</th>\n      <th>PSCA</th>\n    </tr>\n  </thead>\n  <tbody>\n    <tr>\n      <th>count</th>\n      <td>1520.000000</td>\n      <td>1520.000000</td>\n      <td>1520.000000</td>\n      <td>1520.000000</td>\n      <td>1520.000000</td>\n      <td>1520.000000</td>\n      <td>1520.000000</td>\n      <td>1520.000000</td>\n      <td>1520.000000</td>\n      <td>1520.000000</td>\n      <td>1520.000000</td>\n      <td>1520.000000</td>\n      <td>1520.000000</td>\n      <td>1520.000000</td>\n      <td>1520.000000</td>\n      <td>1520.000000</td>\n      <td>1520.000000</td>\n      <td>1520.000000</td>\n      <td>1520.000000</td>\n    </tr>\n    <tr>\n      <th>mean</th>\n      <td>1.492105</td>\n      <td>1.236842</td>\n      <td>0.663158</td>\n      <td>0.561184</td>\n      <td>13.465789</td>\n      <td>11.191447</td>\n      <td>4.626974</td>\n      <td>3.943421</td>\n      <td>10.519737</td>\n      <td>10.580263</td>\n      <td>5.695395</td>\n      <td>4.665789</td>\n      <td>1.503947</td>\n      <td>1.615789</td>\n      <td>0.050000</td>\n      <td>0.066447</td>\n      <td>3.184967</td>\n      <td>4.426493</td>\n      <td>5.137711</td>\n    </tr>\n    <tr>\n      <th>std</th>\n      <td>1.307271</td>\n      <td>1.205303</td>\n      <td>0.842243</td>\n      <td>0.772431</td>\n      <td>5.651861</td>\n      <td>4.916236</td>\n      <td>2.625832</td>\n      <td>2.338832</td>\n      <td>3.418323</td>\n      <td>3.514496</td>\n      <td>3.056411</td>\n      <td>2.752008</td>\n      <td>1.208914</td>\n      <td>1.216959</td>\n      <td>0.223975</td>\n      <td>0.259499</td>\n      <td>2.630566</td>\n      <td>1.786473</td>\n      <td>5.115246</td>\n    </tr>\n    <tr>\n      <th>min</th>\n      <td>0.000000</td>\n      <td>0.000000</td>\n      <td>0.000000</td>\n      <td>0.000000</td>\n      <td>0.000000</td>\n      <td>0.000000</td>\n      <td>0.000000</td>\n      <td>0.000000</td>\n      <td>0.000000</td>\n      <td>1.000000</td>\n      <td>0.000000</td>\n      <td>0.000000</td>\n      <td>0.000000</td>\n      <td>0.000000</td>\n      <td>0.000000</td>\n      <td>0.000000</td>\n      <td>1.040000</td>\n      <td>2.890000</td>\n      <td>1.090000</td>\n    </tr>\n    <tr>\n      <th>25%</th>\n      <td>1.000000</td>\n      <td>0.000000</td>\n      <td>0.000000</td>\n      <td>0.000000</td>\n      <td>9.000000</td>\n      <td>7.000000</td>\n      <td>3.000000</td>\n      <td>2.000000</td>\n      <td>8.000000</td>\n      <td>8.000000</td>\n      <td>3.000000</td>\n      <td>3.000000</td>\n      <td>1.000000</td>\n      <td>1.000000</td>\n      <td>0.000000</td>\n      <td>0.000000</td>\n      <td>1.680000</td>\n      <td>3.420000</td>\n      <td>2.247500</td>\n    </tr>\n    <tr>\n      <th>50%</th>\n      <td>1.000000</td>\n      <td>1.000000</td>\n      <td>0.000000</td>\n      <td>0.000000</td>\n      <td>13.000000</td>\n      <td>11.000000</td>\n      <td>4.000000</td>\n      <td>4.000000</td>\n      <td>10.000000</td>\n      <td>10.000000</td>\n      <td>5.000000</td>\n      <td>4.000000</td>\n      <td>1.000000</td>\n      <td>1.000000</td>\n      <td>0.000000</td>\n      <td>0.000000</td>\n      <td>2.350000</td>\n      <td>3.750000</td>\n      <td>3.385000</td>\n    </tr>\n    <tr>\n      <th>75%</th>\n      <td>2.000000</td>\n      <td>2.000000</td>\n      <td>1.000000</td>\n      <td>1.000000</td>\n      <td>17.000000</td>\n      <td>14.000000</td>\n      <td>6.000000</td>\n      <td>5.000000</td>\n      <td>13.000000</td>\n      <td>13.000000</td>\n      <td>8.000000</td>\n      <td>6.000000</td>\n      <td>2.000000</td>\n      <td>2.000000</td>\n      <td>0.000000</td>\n      <td>0.000000</td>\n      <td>3.480000</td>\n      <td>4.660000</td>\n      <td>5.552500</td>\n    </tr>\n    <tr>\n      <th>max</th>\n      <td>9.000000</td>\n      <td>9.000000</td>\n      <td>5.000000</td>\n      <td>5.000000</td>\n      <td>36.000000</td>\n      <td>30.000000</td>\n      <td>15.000000</td>\n      <td>15.000000</td>\n      <td>23.000000</td>\n      <td>26.000000</td>\n      <td>18.000000</td>\n      <td>16.000000</td>\n      <td>6.000000</td>\n      <td>7.000000</td>\n      <td>2.000000</td>\n      <td>2.000000</td>\n      <td>25.830000</td>\n      <td>18.500000</td>\n      <td>41.000000</td>\n    </tr>\n  </tbody>\n</table>\n</div>"
     },
     "metadata": {},
     "execution_count": 98
    }
   ],
   "source": [
    "df_2.describe()"
   ]
  },
  {
   "cell_type": "code",
   "execution_count": 120,
   "metadata": {},
   "outputs": [],
   "source": [
    "from sklearn.preprocessing import OneHotEncoder\n",
    "enc = OneHotEncoder(handle_unknown='ignore')\n",
    "d = enc.fit_transform(df_2)"
   ]
  },
  {
   "cell_type": "code",
   "execution_count": 122,
   "metadata": {},
   "outputs": [],
   "source": [
    "d = pd.DataFrame.sparse.from_spmatrix(d)"
   ]
  },
  {
   "cell_type": "code",
   "execution_count": 123,
   "metadata": {},
   "outputs": [
    {
     "output_type": "execute_result",
     "data": {
      "text/plain": [
       "      0      1      2      3      4      5      6      7      8      9      \\\n",
       "0       0.0    1.0    0.0    0.0    0.0    0.0    0.0    0.0    0.0    0.0   \n",
       "1       0.0    0.0    0.0    0.0    0.0    0.0    1.0    0.0    0.0    0.0   \n",
       "2       0.0    0.0    0.0    0.0    0.0    0.0    0.0    0.0    0.0    0.0   \n",
       "3       0.0    0.0    0.0    0.0    0.0    0.0    0.0    0.0    0.0    0.0   \n",
       "4       0.0    0.0    0.0    1.0    0.0    0.0    0.0    0.0    0.0    0.0   \n",
       "...     ...    ...    ...    ...    ...    ...    ...    ...    ...    ...   \n",
       "1515    0.0    0.0    0.0    0.0    0.0    0.0    0.0    0.0    0.0    0.0   \n",
       "1516    0.0    0.0    0.0    0.0    0.0    0.0    0.0    0.0    0.0    0.0   \n",
       "1517    0.0    0.0    0.0    0.0    0.0    0.0    0.0    0.0    0.0    0.0   \n",
       "1518    0.0    0.0    0.0    0.0    0.0    0.0    0.0    0.0    0.0    0.0   \n",
       "1519    0.0    0.0    0.0    0.0    0.0    0.0    0.0    0.0    0.0    0.0   \n",
       "\n",
       "      ...  13330  13331  13332  13333  13334  13335  13336  13337  13338  \\\n",
       "0     ...    0.0    0.0    0.0    0.0    0.0    0.0    0.0    0.0    0.0   \n",
       "1     ...    0.0    0.0    0.0    0.0    0.0    0.0    0.0    0.0    0.0   \n",
       "2     ...    0.0    0.0    0.0    0.0    0.0    0.0    0.0    0.0    0.0   \n",
       "3     ...    0.0    0.0    0.0    0.0    0.0    0.0    0.0    0.0    0.0   \n",
       "4     ...    0.0    0.0    0.0    0.0    0.0    0.0    0.0    0.0    0.0   \n",
       "...   ...    ...    ...    ...    ...    ...    ...    ...    ...    ...   \n",
       "1515  ...    0.0    0.0    0.0    0.0    0.0    0.0    0.0    0.0    0.0   \n",
       "1516  ...    0.0    0.0    0.0    0.0    0.0    0.0    0.0    0.0    0.0   \n",
       "1517  ...    0.0    0.0    0.0    0.0    0.0    0.0    0.0    0.0    0.0   \n",
       "1518  ...    0.0    0.0    0.0    0.0    0.0    0.0    0.0    0.0    0.0   \n",
       "1519  ...    0.0    0.0    0.0    0.0    0.0    0.0    0.0    0.0    0.0   \n",
       "\n",
       "      13339  \n",
       "0       1.0  \n",
       "1       1.0  \n",
       "2       1.0  \n",
       "3       1.0  \n",
       "4       1.0  \n",
       "...     ...  \n",
       "1515    0.0  \n",
       "1516    0.0  \n",
       "1517    0.0  \n",
       "1518    0.0  \n",
       "1519    0.0  \n",
       "\n",
       "[1520 rows x 13340 columns]"
      ],
      "text/html": "<div>\n<style scoped>\n    .dataframe tbody tr th:only-of-type {\n        vertical-align: middle;\n    }\n\n    .dataframe tbody tr th {\n        vertical-align: top;\n    }\n\n    .dataframe thead th {\n        text-align: right;\n    }\n</style>\n<table border=\"1\" class=\"dataframe\">\n  <thead>\n    <tr style=\"text-align: right;\">\n      <th></th>\n      <th>0</th>\n      <th>1</th>\n      <th>2</th>\n      <th>3</th>\n      <th>4</th>\n      <th>5</th>\n      <th>6</th>\n      <th>7</th>\n      <th>8</th>\n      <th>9</th>\n      <th>...</th>\n      <th>13330</th>\n      <th>13331</th>\n      <th>13332</th>\n      <th>13333</th>\n      <th>13334</th>\n      <th>13335</th>\n      <th>13336</th>\n      <th>13337</th>\n      <th>13338</th>\n      <th>13339</th>\n    </tr>\n  </thead>\n  <tbody>\n    <tr>\n      <th>0</th>\n      <td>0.0</td>\n      <td>1.0</td>\n      <td>0.0</td>\n      <td>0.0</td>\n      <td>0.0</td>\n      <td>0.0</td>\n      <td>0.0</td>\n      <td>0.0</td>\n      <td>0.0</td>\n      <td>0.0</td>\n      <td>...</td>\n      <td>0.0</td>\n      <td>0.0</td>\n      <td>0.0</td>\n      <td>0.0</td>\n      <td>0.0</td>\n      <td>0.0</td>\n      <td>0.0</td>\n      <td>0.0</td>\n      <td>0.0</td>\n      <td>1.0</td>\n    </tr>\n    <tr>\n      <th>1</th>\n      <td>0.0</td>\n      <td>0.0</td>\n      <td>0.0</td>\n      <td>0.0</td>\n      <td>0.0</td>\n      <td>0.0</td>\n      <td>1.0</td>\n      <td>0.0</td>\n      <td>0.0</td>\n      <td>0.0</td>\n      <td>...</td>\n      <td>0.0</td>\n      <td>0.0</td>\n      <td>0.0</td>\n      <td>0.0</td>\n      <td>0.0</td>\n      <td>0.0</td>\n      <td>0.0</td>\n      <td>0.0</td>\n      <td>0.0</td>\n      <td>1.0</td>\n    </tr>\n    <tr>\n      <th>2</th>\n      <td>0.0</td>\n      <td>0.0</td>\n      <td>0.0</td>\n      <td>0.0</td>\n      <td>0.0</td>\n      <td>0.0</td>\n      <td>0.0</td>\n      <td>0.0</td>\n      <td>0.0</td>\n      <td>0.0</td>\n      <td>...</td>\n      <td>0.0</td>\n      <td>0.0</td>\n      <td>0.0</td>\n      <td>0.0</td>\n      <td>0.0</td>\n      <td>0.0</td>\n      <td>0.0</td>\n      <td>0.0</td>\n      <td>0.0</td>\n      <td>1.0</td>\n    </tr>\n    <tr>\n      <th>3</th>\n      <td>0.0</td>\n      <td>0.0</td>\n      <td>0.0</td>\n      <td>0.0</td>\n      <td>0.0</td>\n      <td>0.0</td>\n      <td>0.0</td>\n      <td>0.0</td>\n      <td>0.0</td>\n      <td>0.0</td>\n      <td>...</td>\n      <td>0.0</td>\n      <td>0.0</td>\n      <td>0.0</td>\n      <td>0.0</td>\n      <td>0.0</td>\n      <td>0.0</td>\n      <td>0.0</td>\n      <td>0.0</td>\n      <td>0.0</td>\n      <td>1.0</td>\n    </tr>\n    <tr>\n      <th>4</th>\n      <td>0.0</td>\n      <td>0.0</td>\n      <td>0.0</td>\n      <td>1.0</td>\n      <td>0.0</td>\n      <td>0.0</td>\n      <td>0.0</td>\n      <td>0.0</td>\n      <td>0.0</td>\n      <td>0.0</td>\n      <td>...</td>\n      <td>0.0</td>\n      <td>0.0</td>\n      <td>0.0</td>\n      <td>0.0</td>\n      <td>0.0</td>\n      <td>0.0</td>\n      <td>0.0</td>\n      <td>0.0</td>\n      <td>0.0</td>\n      <td>1.0</td>\n    </tr>\n    <tr>\n      <th>...</th>\n      <td>...</td>\n      <td>...</td>\n      <td>...</td>\n      <td>...</td>\n      <td>...</td>\n      <td>...</td>\n      <td>...</td>\n      <td>...</td>\n      <td>...</td>\n      <td>...</td>\n      <td>...</td>\n      <td>...</td>\n      <td>...</td>\n      <td>...</td>\n      <td>...</td>\n      <td>...</td>\n      <td>...</td>\n      <td>...</td>\n      <td>...</td>\n      <td>...</td>\n      <td>...</td>\n    </tr>\n    <tr>\n      <th>1515</th>\n      <td>0.0</td>\n      <td>0.0</td>\n      <td>0.0</td>\n      <td>0.0</td>\n      <td>0.0</td>\n      <td>0.0</td>\n      <td>0.0</td>\n      <td>0.0</td>\n      <td>0.0</td>\n      <td>0.0</td>\n      <td>...</td>\n      <td>0.0</td>\n      <td>0.0</td>\n      <td>0.0</td>\n      <td>0.0</td>\n      <td>0.0</td>\n      <td>0.0</td>\n      <td>0.0</td>\n      <td>0.0</td>\n      <td>0.0</td>\n      <td>0.0</td>\n    </tr>\n    <tr>\n      <th>1516</th>\n      <td>0.0</td>\n      <td>0.0</td>\n      <td>0.0</td>\n      <td>0.0</td>\n      <td>0.0</td>\n      <td>0.0</td>\n      <td>0.0</td>\n      <td>0.0</td>\n      <td>0.0</td>\n      <td>0.0</td>\n      <td>...</td>\n      <td>0.0</td>\n      <td>0.0</td>\n      <td>0.0</td>\n      <td>0.0</td>\n      <td>0.0</td>\n      <td>0.0</td>\n      <td>0.0</td>\n      <td>0.0</td>\n      <td>0.0</td>\n      <td>0.0</td>\n    </tr>\n    <tr>\n      <th>1517</th>\n      <td>0.0</td>\n      <td>0.0</td>\n      <td>0.0</td>\n      <td>0.0</td>\n      <td>0.0</td>\n      <td>0.0</td>\n      <td>0.0</td>\n      <td>0.0</td>\n      <td>0.0</td>\n      <td>0.0</td>\n      <td>...</td>\n      <td>0.0</td>\n      <td>0.0</td>\n      <td>0.0</td>\n      <td>0.0</td>\n      <td>0.0</td>\n      <td>0.0</td>\n      <td>0.0</td>\n      <td>0.0</td>\n      <td>0.0</td>\n      <td>0.0</td>\n    </tr>\n    <tr>\n      <th>1518</th>\n      <td>0.0</td>\n      <td>0.0</td>\n      <td>0.0</td>\n      <td>0.0</td>\n      <td>0.0</td>\n      <td>0.0</td>\n      <td>0.0</td>\n      <td>0.0</td>\n      <td>0.0</td>\n      <td>0.0</td>\n      <td>...</td>\n      <td>0.0</td>\n      <td>0.0</td>\n      <td>0.0</td>\n      <td>0.0</td>\n      <td>0.0</td>\n      <td>0.0</td>\n      <td>0.0</td>\n      <td>0.0</td>\n      <td>0.0</td>\n      <td>0.0</td>\n    </tr>\n    <tr>\n      <th>1519</th>\n      <td>0.0</td>\n      <td>0.0</td>\n      <td>0.0</td>\n      <td>0.0</td>\n      <td>0.0</td>\n      <td>0.0</td>\n      <td>0.0</td>\n      <td>0.0</td>\n      <td>0.0</td>\n      <td>0.0</td>\n      <td>...</td>\n      <td>0.0</td>\n      <td>0.0</td>\n      <td>0.0</td>\n      <td>0.0</td>\n      <td>0.0</td>\n      <td>0.0</td>\n      <td>0.0</td>\n      <td>0.0</td>\n      <td>0.0</td>\n      <td>0.0</td>\n    </tr>\n  </tbody>\n</table>\n<p>1520 rows × 13340 columns</p>\n</div>"
     },
     "metadata": {},
     "execution_count": 123
    }
   ],
   "source": [
    "d"
   ]
  },
  {
   "cell_type": "code",
   "execution_count": 93,
   "metadata": {},
   "outputs": [
    {
     "output_type": "error",
     "ename": "ValueError",
     "evalue": "Cannot use mean strategy with non-numeric data:\ncould not convert string to float: 'Fulham'",
     "traceback": [
      "\u001b[1;31m---------------------------------------------------------------------------\u001b[0m",
      "\u001b[1;31mValueError\u001b[0m                                Traceback (most recent call last)",
      "\u001b[1;32m<ipython-input-93-061d8dd4419c>\u001b[0m in \u001b[0;36m<module>\u001b[1;34m\u001b[0m\n\u001b[0;32m      1\u001b[0m \u001b[1;32mfrom\u001b[0m \u001b[0msklearn\u001b[0m\u001b[1;33m.\u001b[0m\u001b[0mimpute\u001b[0m \u001b[1;32mimport\u001b[0m \u001b[0mSimpleImputer\u001b[0m\u001b[1;33m\u001b[0m\u001b[1;33m\u001b[0m\u001b[0m\n\u001b[0;32m      2\u001b[0m \u001b[0mimp_mean\u001b[0m \u001b[1;33m=\u001b[0m \u001b[0mSimpleImputer\u001b[0m\u001b[1;33m(\u001b[0m\u001b[0mstrategy\u001b[0m\u001b[1;33m=\u001b[0m\u001b[1;34m'mean'\u001b[0m\u001b[1;33m)\u001b[0m\u001b[1;33m\u001b[0m\u001b[1;33m\u001b[0m\u001b[0m\n\u001b[1;32m----> 3\u001b[1;33m \u001b[0mdf_2\u001b[0m \u001b[1;33m=\u001b[0m \u001b[0mimp_mean\u001b[0m\u001b[1;33m.\u001b[0m\u001b[0mfit_transform\u001b[0m\u001b[1;33m(\u001b[0m\u001b[0mdf_2\u001b[0m\u001b[1;33m)\u001b[0m\u001b[1;33m\u001b[0m\u001b[1;33m\u001b[0m\u001b[0m\n\u001b[0m",
      "\u001b[1;32mD:\\ProgramData\\Miniconda3\\lib\\site-packages\\sklearn\\base.py\u001b[0m in \u001b[0;36mfit_transform\u001b[1;34m(self, X, y, **fit_params)\u001b[0m\n\u001b[0;32m    697\u001b[0m         \u001b[1;32mif\u001b[0m \u001b[0my\u001b[0m \u001b[1;32mis\u001b[0m \u001b[1;32mNone\u001b[0m\u001b[1;33m:\u001b[0m\u001b[1;33m\u001b[0m\u001b[1;33m\u001b[0m\u001b[0m\n\u001b[0;32m    698\u001b[0m             \u001b[1;31m# fit method of arity 1 (unsupervised transformation)\u001b[0m\u001b[1;33m\u001b[0m\u001b[1;33m\u001b[0m\u001b[1;33m\u001b[0m\u001b[0m\n\u001b[1;32m--> 699\u001b[1;33m             \u001b[1;32mreturn\u001b[0m \u001b[0mself\u001b[0m\u001b[1;33m.\u001b[0m\u001b[0mfit\u001b[0m\u001b[1;33m(\u001b[0m\u001b[0mX\u001b[0m\u001b[1;33m,\u001b[0m \u001b[1;33m**\u001b[0m\u001b[0mfit_params\u001b[0m\u001b[1;33m)\u001b[0m\u001b[1;33m.\u001b[0m\u001b[0mtransform\u001b[0m\u001b[1;33m(\u001b[0m\u001b[0mX\u001b[0m\u001b[1;33m)\u001b[0m\u001b[1;33m\u001b[0m\u001b[1;33m\u001b[0m\u001b[0m\n\u001b[0m\u001b[0;32m    700\u001b[0m         \u001b[1;32melse\u001b[0m\u001b[1;33m:\u001b[0m\u001b[1;33m\u001b[0m\u001b[1;33m\u001b[0m\u001b[0m\n\u001b[0;32m    701\u001b[0m             \u001b[1;31m# fit method of arity 2 (supervised transformation)\u001b[0m\u001b[1;33m\u001b[0m\u001b[1;33m\u001b[0m\u001b[1;33m\u001b[0m\u001b[0m\n",
      "\u001b[1;32mD:\\ProgramData\\Miniconda3\\lib\\site-packages\\sklearn\\impute\\_base.py\u001b[0m in \u001b[0;36mfit\u001b[1;34m(self, X, y)\u001b[0m\n\u001b[0;32m    286\u001b[0m         \u001b[0mself\u001b[0m \u001b[1;33m:\u001b[0m \u001b[0mSimpleImputer\u001b[0m\u001b[1;33m\u001b[0m\u001b[1;33m\u001b[0m\u001b[0m\n\u001b[0;32m    287\u001b[0m         \"\"\"\n\u001b[1;32m--> 288\u001b[1;33m         \u001b[0mX\u001b[0m \u001b[1;33m=\u001b[0m \u001b[0mself\u001b[0m\u001b[1;33m.\u001b[0m\u001b[0m_validate_input\u001b[0m\u001b[1;33m(\u001b[0m\u001b[0mX\u001b[0m\u001b[1;33m,\u001b[0m \u001b[0min_fit\u001b[0m\u001b[1;33m=\u001b[0m\u001b[1;32mTrue\u001b[0m\u001b[1;33m)\u001b[0m\u001b[1;33m\u001b[0m\u001b[1;33m\u001b[0m\u001b[0m\n\u001b[0m\u001b[0;32m    289\u001b[0m \u001b[1;33m\u001b[0m\u001b[0m\n\u001b[0;32m    290\u001b[0m         \u001b[1;31m# default fill_value is 0 for numerical input and \"missing_value\"\u001b[0m\u001b[1;33m\u001b[0m\u001b[1;33m\u001b[0m\u001b[1;33m\u001b[0m\u001b[0m\n",
      "\u001b[1;32mD:\\ProgramData\\Miniconda3\\lib\\site-packages\\sklearn\\impute\\_base.py\u001b[0m in \u001b[0;36m_validate_input\u001b[1;34m(self, X, in_fit)\u001b[0m\n\u001b[0;32m    258\u001b[0m                 new_ve = ValueError(\"Cannot use {} strategy with non-numeric \"\n\u001b[0;32m    259\u001b[0m                                     \"data:\\n{}\".format(self.strategy, ve))\n\u001b[1;32m--> 260\u001b[1;33m                 \u001b[1;32mraise\u001b[0m \u001b[0mnew_ve\u001b[0m \u001b[1;32mfrom\u001b[0m \u001b[1;32mNone\u001b[0m\u001b[1;33m\u001b[0m\u001b[1;33m\u001b[0m\u001b[0m\n\u001b[0m\u001b[0;32m    261\u001b[0m             \u001b[1;32melse\u001b[0m\u001b[1;33m:\u001b[0m\u001b[1;33m\u001b[0m\u001b[1;33m\u001b[0m\u001b[0m\n\u001b[0;32m    262\u001b[0m                 \u001b[1;32mraise\u001b[0m \u001b[0mve\u001b[0m\u001b[1;33m\u001b[0m\u001b[1;33m\u001b[0m\u001b[0m\n",
      "\u001b[1;31mValueError\u001b[0m: Cannot use mean strategy with non-numeric data:\ncould not convert string to float: 'Fulham'"
     ]
    }
   ],
   "source": [
    "from sklearn.impute import SimpleImputer\n",
    "imp_mean = SimpleImputer(strategy='mean')\n",
    "df_2 = imp_mean.fit_transform(df_2)"
   ]
  },
  {
   "cell_type": "code",
   "execution_count": null,
   "metadata": {},
   "outputs": [],
   "source": []
  },
  {
   "cell_type": "code",
   "execution_count": null,
   "metadata": {},
   "outputs": [],
   "source": []
  },
  {
   "cell_type": "code",
   "execution_count": null,
   "metadata": {},
   "outputs": [],
   "source": []
  },
  {
   "cell_type": "code",
   "execution_count": null,
   "metadata": {},
   "outputs": [],
   "source": []
  },
  {
   "cell_type": "code",
   "execution_count": null,
   "metadata": {},
   "outputs": [],
   "source": []
  },
  {
   "cell_type": "code",
   "execution_count": null,
   "metadata": {},
   "outputs": [],
   "source": []
  },
  {
   "cell_type": "code",
   "execution_count": null,
   "metadata": {},
   "outputs": [],
   "source": []
  },
  {
   "cell_type": "code",
   "execution_count": null,
   "metadata": {},
   "outputs": [],
   "source": []
  },
  {
   "cell_type": "code",
   "execution_count": null,
   "metadata": {},
   "outputs": [],
   "source": []
  },
  {
   "cell_type": "code",
   "execution_count": null,
   "metadata": {},
   "outputs": [],
   "source": []
  },
  {
   "cell_type": "code",
   "execution_count": 38,
   "metadata": {},
   "outputs": [
    {
     "output_type": "execute_result",
     "data": {
      "text/plain": [
       "  Div        Date   Time        HomeTeam     AwayTeam  FTHG  FTAG FTR  HTHG  \\\n",
       "0  E0  12/09/2020  12:30          Fulham      Arsenal     0     3   A     0   \n",
       "1  E0  12/09/2020  15:00  Crystal Palace  Southampton     1     0   H     1   \n",
       "2  E0  12/09/2020  17:30       Liverpool        Leeds     4     3   H     3   \n",
       "3  E0  12/09/2020  20:00        West Ham    Newcastle     0     2   A     0   \n",
       "4  E0  13/09/2020  14:00       West Brom    Leicester     0     3   A     0   \n",
       "\n",
       "   HTAG  ... BbAv<2.5 BbAH  BbAHh  BbMxAHH  BbAvAHH  BbMxAHA  BbAvAHA  LBH  \\\n",
       "0     1  ...      NaN  NaN    NaN      NaN      NaN      NaN      NaN  NaN   \n",
       "1     0  ...      NaN  NaN    NaN      NaN      NaN      NaN      NaN  NaN   \n",
       "2     2  ...      NaN  NaN    NaN      NaN      NaN      NaN      NaN  NaN   \n",
       "3     0  ...      NaN  NaN    NaN      NaN      NaN      NaN      NaN  NaN   \n",
       "4     0  ...      NaN  NaN    NaN      NaN      NaN      NaN      NaN  NaN   \n",
       "\n",
       "   LBD  LBA  \n",
       "0  NaN  NaN  \n",
       "1  NaN  NaN  \n",
       "2  NaN  NaN  \n",
       "3  NaN  NaN  \n",
       "4  NaN  NaN  \n",
       "\n",
       "[5 rows x 127 columns]"
      ],
      "text/html": "<div>\n<style scoped>\n    .dataframe tbody tr th:only-of-type {\n        vertical-align: middle;\n    }\n\n    .dataframe tbody tr th {\n        vertical-align: top;\n    }\n\n    .dataframe thead th {\n        text-align: right;\n    }\n</style>\n<table border=\"1\" class=\"dataframe\">\n  <thead>\n    <tr style=\"text-align: right;\">\n      <th></th>\n      <th>Div</th>\n      <th>Date</th>\n      <th>Time</th>\n      <th>HomeTeam</th>\n      <th>AwayTeam</th>\n      <th>FTHG</th>\n      <th>FTAG</th>\n      <th>FTR</th>\n      <th>HTHG</th>\n      <th>HTAG</th>\n      <th>...</th>\n      <th>BbAv&lt;2.5</th>\n      <th>BbAH</th>\n      <th>BbAHh</th>\n      <th>BbMxAHH</th>\n      <th>BbAvAHH</th>\n      <th>BbMxAHA</th>\n      <th>BbAvAHA</th>\n      <th>LBH</th>\n      <th>LBD</th>\n      <th>LBA</th>\n    </tr>\n  </thead>\n  <tbody>\n    <tr>\n      <th>0</th>\n      <td>E0</td>\n      <td>12/09/2020</td>\n      <td>12:30</td>\n      <td>Fulham</td>\n      <td>Arsenal</td>\n      <td>0</td>\n      <td>3</td>\n      <td>A</td>\n      <td>0</td>\n      <td>1</td>\n      <td>...</td>\n      <td>NaN</td>\n      <td>NaN</td>\n      <td>NaN</td>\n      <td>NaN</td>\n      <td>NaN</td>\n      <td>NaN</td>\n      <td>NaN</td>\n      <td>NaN</td>\n      <td>NaN</td>\n      <td>NaN</td>\n    </tr>\n    <tr>\n      <th>1</th>\n      <td>E0</td>\n      <td>12/09/2020</td>\n      <td>15:00</td>\n      <td>Crystal Palace</td>\n      <td>Southampton</td>\n      <td>1</td>\n      <td>0</td>\n      <td>H</td>\n      <td>1</td>\n      <td>0</td>\n      <td>...</td>\n      <td>NaN</td>\n      <td>NaN</td>\n      <td>NaN</td>\n      <td>NaN</td>\n      <td>NaN</td>\n      <td>NaN</td>\n      <td>NaN</td>\n      <td>NaN</td>\n      <td>NaN</td>\n      <td>NaN</td>\n    </tr>\n    <tr>\n      <th>2</th>\n      <td>E0</td>\n      <td>12/09/2020</td>\n      <td>17:30</td>\n      <td>Liverpool</td>\n      <td>Leeds</td>\n      <td>4</td>\n      <td>3</td>\n      <td>H</td>\n      <td>3</td>\n      <td>2</td>\n      <td>...</td>\n      <td>NaN</td>\n      <td>NaN</td>\n      <td>NaN</td>\n      <td>NaN</td>\n      <td>NaN</td>\n      <td>NaN</td>\n      <td>NaN</td>\n      <td>NaN</td>\n      <td>NaN</td>\n      <td>NaN</td>\n    </tr>\n    <tr>\n      <th>3</th>\n      <td>E0</td>\n      <td>12/09/2020</td>\n      <td>20:00</td>\n      <td>West Ham</td>\n      <td>Newcastle</td>\n      <td>0</td>\n      <td>2</td>\n      <td>A</td>\n      <td>0</td>\n      <td>0</td>\n      <td>...</td>\n      <td>NaN</td>\n      <td>NaN</td>\n      <td>NaN</td>\n      <td>NaN</td>\n      <td>NaN</td>\n      <td>NaN</td>\n      <td>NaN</td>\n      <td>NaN</td>\n      <td>NaN</td>\n      <td>NaN</td>\n    </tr>\n    <tr>\n      <th>4</th>\n      <td>E0</td>\n      <td>13/09/2020</td>\n      <td>14:00</td>\n      <td>West Brom</td>\n      <td>Leicester</td>\n      <td>0</td>\n      <td>3</td>\n      <td>A</td>\n      <td>0</td>\n      <td>0</td>\n      <td>...</td>\n      <td>NaN</td>\n      <td>NaN</td>\n      <td>NaN</td>\n      <td>NaN</td>\n      <td>NaN</td>\n      <td>NaN</td>\n      <td>NaN</td>\n      <td>NaN</td>\n      <td>NaN</td>\n      <td>NaN</td>\n    </tr>\n  </tbody>\n</table>\n<p>5 rows × 127 columns</p>\n</div>"
     },
     "metadata": {},
     "execution_count": 38
    }
   ],
   "source": [
    "df=df.loc[:,~df.columns.str.match(\"Unnamed\")]\n",
    "df.head()"
   ]
  },
  {
   "cell_type": "code",
   "execution_count": 39,
   "metadata": {},
   "outputs": [],
   "source": [
    "df_columns = pd.DataFrame(list(zip(df.columns,df.count())),columns=['Column Name','Count Data'])\n",
    "df_columns = df_columns.sort_values('Count Data', ascending=False)\n",
    "#pd.set_option('display.max_rows', df.shape[0]+1)\n",
    "df_columns['Low Count'] = [1 if x > 1000 else 0 for x in df_columns['Count Data']]\n",
    "df_columns = df_columns[(df_columns['Low Count'] == 0)]\n",
    "df_columns = df_columns.drop(columns=['Low Count'])\n",
    "trash_list = list(df_columns['Column Name'])"
   ]
  },
  {
   "cell_type": "code",
   "execution_count": 40,
   "metadata": {},
   "outputs": [
    {
     "output_type": "execute_result",
     "data": {
      "text/plain": [
       "(1520, 44)"
      ]
     },
     "metadata": {},
     "execution_count": 40
    }
   ],
   "source": [
    "df.drop(trash_list,axis=1,inplace = True)\n",
    "df.shape"
   ]
  },
  {
   "cell_type": "code",
   "execution_count": 41,
   "metadata": {},
   "outputs": [
    {
     "output_type": "execute_result",
     "data": {
      "text/plain": [
       "  Div       Date        HomeTeam     AwayTeam  FTHG  FTAG FTR  HTHG  HTAG HTR  \\\n",
       "0  E0 2020-12-09          Fulham      Arsenal     0     3   A     0     1   A   \n",
       "1  E0 2020-12-09  Crystal Palace  Southampton     1     0   H     1     0   H   \n",
       "2  E0 2020-12-09       Liverpool        Leeds     4     3   H     3     2   H   \n",
       "3  E0 2020-12-09        West Ham    Newcastle     0     2   A     0     0   D   \n",
       "4  E0 2020-09-13       West Brom    Leicester     0     3   A     0     0   D   \n",
       "\n",
       "   ...   PSA   WHH  WHD    WHA   VCH   VCD    VCA  PSCH  PSCD   PSCA  \n",
       "0  ...  1.56  6.50  4.2   1.53  6.50  4.20   1.55  5.48  3.98   1.69  \n",
       "1  ...  2.40  3.20  3.2   2.35  3.20  3.20   2.40  3.09  3.27   2.54  \n",
       "2  ...  9.92  1.27  6.0  10.00  1.30  5.75  10.50  1.28  6.34  11.38  \n",
       "3  ...  3.50  2.15  3.5   3.40  2.15  3.40   3.60  2.04  3.59   3.92  \n",
       "4  ...  2.00  3.80  3.6   1.95  4.00  3.50   1.95  3.38  3.38   2.32  \n",
       "\n",
       "[5 rows x 44 columns]"
      ],
      "text/html": "<div>\n<style scoped>\n    .dataframe tbody tr th:only-of-type {\n        vertical-align: middle;\n    }\n\n    .dataframe tbody tr th {\n        vertical-align: top;\n    }\n\n    .dataframe thead th {\n        text-align: right;\n    }\n</style>\n<table border=\"1\" class=\"dataframe\">\n  <thead>\n    <tr style=\"text-align: right;\">\n      <th></th>\n      <th>Div</th>\n      <th>Date</th>\n      <th>HomeTeam</th>\n      <th>AwayTeam</th>\n      <th>FTHG</th>\n      <th>FTAG</th>\n      <th>FTR</th>\n      <th>HTHG</th>\n      <th>HTAG</th>\n      <th>HTR</th>\n      <th>...</th>\n      <th>PSA</th>\n      <th>WHH</th>\n      <th>WHD</th>\n      <th>WHA</th>\n      <th>VCH</th>\n      <th>VCD</th>\n      <th>VCA</th>\n      <th>PSCH</th>\n      <th>PSCD</th>\n      <th>PSCA</th>\n    </tr>\n  </thead>\n  <tbody>\n    <tr>\n      <th>0</th>\n      <td>E0</td>\n      <td>2020-12-09</td>\n      <td>Fulham</td>\n      <td>Arsenal</td>\n      <td>0</td>\n      <td>3</td>\n      <td>A</td>\n      <td>0</td>\n      <td>1</td>\n      <td>A</td>\n      <td>...</td>\n      <td>1.56</td>\n      <td>6.50</td>\n      <td>4.2</td>\n      <td>1.53</td>\n      <td>6.50</td>\n      <td>4.20</td>\n      <td>1.55</td>\n      <td>5.48</td>\n      <td>3.98</td>\n      <td>1.69</td>\n    </tr>\n    <tr>\n      <th>1</th>\n      <td>E0</td>\n      <td>2020-12-09</td>\n      <td>Crystal Palace</td>\n      <td>Southampton</td>\n      <td>1</td>\n      <td>0</td>\n      <td>H</td>\n      <td>1</td>\n      <td>0</td>\n      <td>H</td>\n      <td>...</td>\n      <td>2.40</td>\n      <td>3.20</td>\n      <td>3.2</td>\n      <td>2.35</td>\n      <td>3.20</td>\n      <td>3.20</td>\n      <td>2.40</td>\n      <td>3.09</td>\n      <td>3.27</td>\n      <td>2.54</td>\n    </tr>\n    <tr>\n      <th>2</th>\n      <td>E0</td>\n      <td>2020-12-09</td>\n      <td>Liverpool</td>\n      <td>Leeds</td>\n      <td>4</td>\n      <td>3</td>\n      <td>H</td>\n      <td>3</td>\n      <td>2</td>\n      <td>H</td>\n      <td>...</td>\n      <td>9.92</td>\n      <td>1.27</td>\n      <td>6.0</td>\n      <td>10.00</td>\n      <td>1.30</td>\n      <td>5.75</td>\n      <td>10.50</td>\n      <td>1.28</td>\n      <td>6.34</td>\n      <td>11.38</td>\n    </tr>\n    <tr>\n      <th>3</th>\n      <td>E0</td>\n      <td>2020-12-09</td>\n      <td>West Ham</td>\n      <td>Newcastle</td>\n      <td>0</td>\n      <td>2</td>\n      <td>A</td>\n      <td>0</td>\n      <td>0</td>\n      <td>D</td>\n      <td>...</td>\n      <td>3.50</td>\n      <td>2.15</td>\n      <td>3.5</td>\n      <td>3.40</td>\n      <td>2.15</td>\n      <td>3.40</td>\n      <td>3.60</td>\n      <td>2.04</td>\n      <td>3.59</td>\n      <td>3.92</td>\n    </tr>\n    <tr>\n      <th>4</th>\n      <td>E0</td>\n      <td>2020-09-13</td>\n      <td>West Brom</td>\n      <td>Leicester</td>\n      <td>0</td>\n      <td>3</td>\n      <td>A</td>\n      <td>0</td>\n      <td>0</td>\n      <td>D</td>\n      <td>...</td>\n      <td>2.00</td>\n      <td>3.80</td>\n      <td>3.6</td>\n      <td>1.95</td>\n      <td>4.00</td>\n      <td>3.50</td>\n      <td>1.95</td>\n      <td>3.38</td>\n      <td>3.38</td>\n      <td>2.32</td>\n    </tr>\n  </tbody>\n</table>\n<p>5 rows × 44 columns</p>\n</div>"
     },
     "metadata": {},
     "execution_count": 41
    }
   ],
   "source": [
    "df['Date'] = pd.to_datetime(df['Date'])\n",
    "df.head()"
   ]
  },
  {
   "cell_type": "code",
   "execution_count": 42,
   "metadata": {},
   "outputs": [
    {
     "output_type": "execute_result",
     "data": {
      "text/plain": [
       "           count unique                  top  freq      first       last  \\\n",
       "Div         1520      1                   E0  1520        NaT        NaT   \n",
       "Date        1520    463  2021-05-23 00:00:00    10 2017-01-10 2021-12-05   \n",
       "HomeTeam    1520     27            Tottenham    76        NaT        NaT   \n",
       "AwayTeam    1520     27            Tottenham    76        NaT        NaT   \n",
       "FTHG      1520.0    NaN                  NaN   NaN        NaT        NaT   \n",
       "FTAG      1520.0    NaN                  NaN   NaN        NaT        NaT   \n",
       "FTR         1520      3                    H   670        NaT        NaT   \n",
       "HTHG      1520.0    NaN                  NaN   NaN        NaT        NaT   \n",
       "HTAG      1520.0    NaN                  NaN   NaN        NaT        NaT   \n",
       "HTR         1520      3                    D   603        NaT        NaT   \n",
       "Referee     1520     28             M Oliver   120        NaT        NaT   \n",
       "HS        1520.0    NaN                  NaN   NaN        NaT        NaT   \n",
       "AS        1520.0    NaN                  NaN   NaN        NaT        NaT   \n",
       "HST       1520.0    NaN                  NaN   NaN        NaT        NaT   \n",
       "AST       1520.0    NaN                  NaN   NaN        NaT        NaT   \n",
       "HF        1520.0    NaN                  NaN   NaN        NaT        NaT   \n",
       "AF        1520.0    NaN                  NaN   NaN        NaT        NaT   \n",
       "HC        1520.0    NaN                  NaN   NaN        NaT        NaT   \n",
       "AC        1520.0    NaN                  NaN   NaN        NaT        NaT   \n",
       "HY        1520.0    NaN                  NaN   NaN        NaT        NaT   \n",
       "AY        1520.0    NaN                  NaN   NaN        NaT        NaT   \n",
       "HR        1520.0    NaN                  NaN   NaN        NaT        NaT   \n",
       "AR        1520.0    NaN                  NaN   NaN        NaT        NaT   \n",
       "B365H     1520.0    NaN                  NaN   NaN        NaT        NaT   \n",
       "B365D     1520.0    NaN                  NaN   NaN        NaT        NaT   \n",
       "B365A     1520.0    NaN                  NaN   NaN        NaT        NaT   \n",
       "BWH       1520.0    NaN                  NaN   NaN        NaT        NaT   \n",
       "BWD       1520.0    NaN                  NaN   NaN        NaT        NaT   \n",
       "BWA       1520.0    NaN                  NaN   NaN        NaT        NaT   \n",
       "IWH       1520.0    NaN                  NaN   NaN        NaT        NaT   \n",
       "IWD       1520.0    NaN                  NaN   NaN        NaT        NaT   \n",
       "IWA       1520.0    NaN                  NaN   NaN        NaT        NaT   \n",
       "PSH       1520.0    NaN                  NaN   NaN        NaT        NaT   \n",
       "PSD       1520.0    NaN                  NaN   NaN        NaT        NaT   \n",
       "PSA       1520.0    NaN                  NaN   NaN        NaT        NaT   \n",
       "WHH       1520.0    NaN                  NaN   NaN        NaT        NaT   \n",
       "WHD       1520.0    NaN                  NaN   NaN        NaT        NaT   \n",
       "WHA       1520.0    NaN                  NaN   NaN        NaT        NaT   \n",
       "VCH       1520.0    NaN                  NaN   NaN        NaT        NaT   \n",
       "VCD       1520.0    NaN                  NaN   NaN        NaT        NaT   \n",
       "VCA       1520.0    NaN                  NaN   NaN        NaT        NaT   \n",
       "PSCH      1520.0    NaN                  NaN   NaN        NaT        NaT   \n",
       "PSCD      1520.0    NaN                  NaN   NaN        NaT        NaT   \n",
       "PSCA      1520.0    NaN                  NaN   NaN        NaT        NaT   \n",
       "\n",
       "               mean       std   min     25%    50%     75%    max  \n",
       "Div             NaN       NaN   NaN     NaN    NaN     NaN    NaN  \n",
       "Date            NaN       NaN   NaN     NaN    NaN     NaN    NaN  \n",
       "HomeTeam        NaN       NaN   NaN     NaN    NaN     NaN    NaN  \n",
       "AwayTeam        NaN       NaN   NaN     NaN    NaN     NaN    NaN  \n",
       "FTHG       1.492105  1.307271   0.0     1.0    1.0     2.0    9.0  \n",
       "FTAG       1.236842  1.205303   0.0     0.0    1.0     2.0    9.0  \n",
       "FTR             NaN       NaN   NaN     NaN    NaN     NaN    NaN  \n",
       "HTHG       0.663158  0.842243   0.0     0.0    0.0     1.0    5.0  \n",
       "HTAG       0.561184  0.772431   0.0     0.0    0.0     1.0    5.0  \n",
       "HTR             NaN       NaN   NaN     NaN    NaN     NaN    NaN  \n",
       "Referee         NaN       NaN   NaN     NaN    NaN     NaN    NaN  \n",
       "HS        13.465789  5.651861   0.0     9.0   13.0    17.0   36.0  \n",
       "AS        11.191447  4.916236   0.0     7.0   11.0    14.0   30.0  \n",
       "HST        4.626974  2.625832   0.0     3.0    4.0     6.0   15.0  \n",
       "AST        3.943421  2.338832   0.0     2.0    4.0     5.0   15.0  \n",
       "HF        10.519737  3.418323   0.0     8.0   10.0    13.0   23.0  \n",
       "AF        10.580263  3.514496   1.0     8.0   10.0    13.0   26.0  \n",
       "HC         5.695395  3.056411   0.0     3.0    5.0     8.0   18.0  \n",
       "AC         4.665789  2.752008   0.0     3.0    4.0     6.0   16.0  \n",
       "HY         1.503947  1.208914   0.0     1.0    1.0     2.0    6.0  \n",
       "AY         1.615789  1.216959   0.0     1.0    1.0     2.0    7.0  \n",
       "HR             0.05  0.223975   0.0     0.0    0.0     0.0    2.0  \n",
       "AR         0.066447  0.259499   0.0     0.0    0.0     0.0    2.0  \n",
       "B365H      3.109053  2.601597  1.06    1.65   2.29     3.3   23.0  \n",
       "B365D        4.3565  1.614897   3.0     3.4   3.75     4.5   17.0  \n",
       "B365A      5.018349  4.847884  1.12     2.2    3.3    5.75   41.0  \n",
       "BWH        3.035164  2.404857  1.05    1.65   2.25     3.3   21.0  \n",
       "BWD        4.248954  1.464826   2.9     3.4    3.7     4.5   14.0  \n",
       "BWA        4.829164  4.504842  1.13     2.2    3.3     5.5   41.0  \n",
       "IWH        2.972007  2.221142  1.07    1.67    2.3     3.3   20.0  \n",
       "IWD        4.154178   1.32532   2.7    3.35    3.6  4.4125   12.0  \n",
       "IWA        4.621211  4.117684  1.12     2.2    3.2     5.2   30.0  \n",
       "PSH        3.137066  2.540265  1.07    1.67   2.33    3.41  21.51  \n",
       "PSD        4.391539  1.602419  2.95    3.45   3.79    4.66  14.96  \n",
       "PSA         5.13852  5.011783  1.13    2.25    3.4    5.76  42.94  \n",
       "WHH        3.076316   2.50372  1.05    1.65    2.3     3.3   21.0  \n",
       "WHD         4.18898  1.449515   2.9     3.3    3.6     4.4   15.0  \n",
       "WHA         4.99723  4.932745  1.12     2.2   3.25     5.5   46.0  \n",
       "VCH        3.164329  2.703431  1.05    1.65    2.3     3.4   23.0  \n",
       "VCD        4.310303  1.584444   2.9     3.4    3.7     4.6   15.0  \n",
       "VCA        5.228309  5.398177  1.14    2.25    3.3    5.75   51.0  \n",
       "PSCH       3.184967  2.630566  1.04    1.68   2.35    3.48  25.83  \n",
       "PSCD       4.426493  1.786473  2.89    3.42   3.75    4.66   18.5  \n",
       "PSCA       5.137711  5.115246  1.09  2.2475  3.385  5.5525   41.0  "
      ],
      "text/html": "<div>\n<style scoped>\n    .dataframe tbody tr th:only-of-type {\n        vertical-align: middle;\n    }\n\n    .dataframe tbody tr th {\n        vertical-align: top;\n    }\n\n    .dataframe thead th {\n        text-align: right;\n    }\n</style>\n<table border=\"1\" class=\"dataframe\">\n  <thead>\n    <tr style=\"text-align: right;\">\n      <th></th>\n      <th>count</th>\n      <th>unique</th>\n      <th>top</th>\n      <th>freq</th>\n      <th>first</th>\n      <th>last</th>\n      <th>mean</th>\n      <th>std</th>\n      <th>min</th>\n      <th>25%</th>\n      <th>50%</th>\n      <th>75%</th>\n      <th>max</th>\n    </tr>\n  </thead>\n  <tbody>\n    <tr>\n      <th>Div</th>\n      <td>1520</td>\n      <td>1</td>\n      <td>E0</td>\n      <td>1520</td>\n      <td>NaT</td>\n      <td>NaT</td>\n      <td>NaN</td>\n      <td>NaN</td>\n      <td>NaN</td>\n      <td>NaN</td>\n      <td>NaN</td>\n      <td>NaN</td>\n      <td>NaN</td>\n    </tr>\n    <tr>\n      <th>Date</th>\n      <td>1520</td>\n      <td>463</td>\n      <td>2021-05-23 00:00:00</td>\n      <td>10</td>\n      <td>2017-01-10</td>\n      <td>2021-12-05</td>\n      <td>NaN</td>\n      <td>NaN</td>\n      <td>NaN</td>\n      <td>NaN</td>\n      <td>NaN</td>\n      <td>NaN</td>\n      <td>NaN</td>\n    </tr>\n    <tr>\n      <th>HomeTeam</th>\n      <td>1520</td>\n      <td>27</td>\n      <td>Tottenham</td>\n      <td>76</td>\n      <td>NaT</td>\n      <td>NaT</td>\n      <td>NaN</td>\n      <td>NaN</td>\n      <td>NaN</td>\n      <td>NaN</td>\n      <td>NaN</td>\n      <td>NaN</td>\n      <td>NaN</td>\n    </tr>\n    <tr>\n      <th>AwayTeam</th>\n      <td>1520</td>\n      <td>27</td>\n      <td>Tottenham</td>\n      <td>76</td>\n      <td>NaT</td>\n      <td>NaT</td>\n      <td>NaN</td>\n      <td>NaN</td>\n      <td>NaN</td>\n      <td>NaN</td>\n      <td>NaN</td>\n      <td>NaN</td>\n      <td>NaN</td>\n    </tr>\n    <tr>\n      <th>FTHG</th>\n      <td>1520.0</td>\n      <td>NaN</td>\n      <td>NaN</td>\n      <td>NaN</td>\n      <td>NaT</td>\n      <td>NaT</td>\n      <td>1.492105</td>\n      <td>1.307271</td>\n      <td>0.0</td>\n      <td>1.0</td>\n      <td>1.0</td>\n      <td>2.0</td>\n      <td>9.0</td>\n    </tr>\n    <tr>\n      <th>FTAG</th>\n      <td>1520.0</td>\n      <td>NaN</td>\n      <td>NaN</td>\n      <td>NaN</td>\n      <td>NaT</td>\n      <td>NaT</td>\n      <td>1.236842</td>\n      <td>1.205303</td>\n      <td>0.0</td>\n      <td>0.0</td>\n      <td>1.0</td>\n      <td>2.0</td>\n      <td>9.0</td>\n    </tr>\n    <tr>\n      <th>FTR</th>\n      <td>1520</td>\n      <td>3</td>\n      <td>H</td>\n      <td>670</td>\n      <td>NaT</td>\n      <td>NaT</td>\n      <td>NaN</td>\n      <td>NaN</td>\n      <td>NaN</td>\n      <td>NaN</td>\n      <td>NaN</td>\n      <td>NaN</td>\n      <td>NaN</td>\n    </tr>\n    <tr>\n      <th>HTHG</th>\n      <td>1520.0</td>\n      <td>NaN</td>\n      <td>NaN</td>\n      <td>NaN</td>\n      <td>NaT</td>\n      <td>NaT</td>\n      <td>0.663158</td>\n      <td>0.842243</td>\n      <td>0.0</td>\n      <td>0.0</td>\n      <td>0.0</td>\n      <td>1.0</td>\n      <td>5.0</td>\n    </tr>\n    <tr>\n      <th>HTAG</th>\n      <td>1520.0</td>\n      <td>NaN</td>\n      <td>NaN</td>\n      <td>NaN</td>\n      <td>NaT</td>\n      <td>NaT</td>\n      <td>0.561184</td>\n      <td>0.772431</td>\n      <td>0.0</td>\n      <td>0.0</td>\n      <td>0.0</td>\n      <td>1.0</td>\n      <td>5.0</td>\n    </tr>\n    <tr>\n      <th>HTR</th>\n      <td>1520</td>\n      <td>3</td>\n      <td>D</td>\n      <td>603</td>\n      <td>NaT</td>\n      <td>NaT</td>\n      <td>NaN</td>\n      <td>NaN</td>\n      <td>NaN</td>\n      <td>NaN</td>\n      <td>NaN</td>\n      <td>NaN</td>\n      <td>NaN</td>\n    </tr>\n    <tr>\n      <th>Referee</th>\n      <td>1520</td>\n      <td>28</td>\n      <td>M Oliver</td>\n      <td>120</td>\n      <td>NaT</td>\n      <td>NaT</td>\n      <td>NaN</td>\n      <td>NaN</td>\n      <td>NaN</td>\n      <td>NaN</td>\n      <td>NaN</td>\n      <td>NaN</td>\n      <td>NaN</td>\n    </tr>\n    <tr>\n      <th>HS</th>\n      <td>1520.0</td>\n      <td>NaN</td>\n      <td>NaN</td>\n      <td>NaN</td>\n      <td>NaT</td>\n      <td>NaT</td>\n      <td>13.465789</td>\n      <td>5.651861</td>\n      <td>0.0</td>\n      <td>9.0</td>\n      <td>13.0</td>\n      <td>17.0</td>\n      <td>36.0</td>\n    </tr>\n    <tr>\n      <th>AS</th>\n      <td>1520.0</td>\n      <td>NaN</td>\n      <td>NaN</td>\n      <td>NaN</td>\n      <td>NaT</td>\n      <td>NaT</td>\n      <td>11.191447</td>\n      <td>4.916236</td>\n      <td>0.0</td>\n      <td>7.0</td>\n      <td>11.0</td>\n      <td>14.0</td>\n      <td>30.0</td>\n    </tr>\n    <tr>\n      <th>HST</th>\n      <td>1520.0</td>\n      <td>NaN</td>\n      <td>NaN</td>\n      <td>NaN</td>\n      <td>NaT</td>\n      <td>NaT</td>\n      <td>4.626974</td>\n      <td>2.625832</td>\n      <td>0.0</td>\n      <td>3.0</td>\n      <td>4.0</td>\n      <td>6.0</td>\n      <td>15.0</td>\n    </tr>\n    <tr>\n      <th>AST</th>\n      <td>1520.0</td>\n      <td>NaN</td>\n      <td>NaN</td>\n      <td>NaN</td>\n      <td>NaT</td>\n      <td>NaT</td>\n      <td>3.943421</td>\n      <td>2.338832</td>\n      <td>0.0</td>\n      <td>2.0</td>\n      <td>4.0</td>\n      <td>5.0</td>\n      <td>15.0</td>\n    </tr>\n    <tr>\n      <th>HF</th>\n      <td>1520.0</td>\n      <td>NaN</td>\n      <td>NaN</td>\n      <td>NaN</td>\n      <td>NaT</td>\n      <td>NaT</td>\n      <td>10.519737</td>\n      <td>3.418323</td>\n      <td>0.0</td>\n      <td>8.0</td>\n      <td>10.0</td>\n      <td>13.0</td>\n      <td>23.0</td>\n    </tr>\n    <tr>\n      <th>AF</th>\n      <td>1520.0</td>\n      <td>NaN</td>\n      <td>NaN</td>\n      <td>NaN</td>\n      <td>NaT</td>\n      <td>NaT</td>\n      <td>10.580263</td>\n      <td>3.514496</td>\n      <td>1.0</td>\n      <td>8.0</td>\n      <td>10.0</td>\n      <td>13.0</td>\n      <td>26.0</td>\n    </tr>\n    <tr>\n      <th>HC</th>\n      <td>1520.0</td>\n      <td>NaN</td>\n      <td>NaN</td>\n      <td>NaN</td>\n      <td>NaT</td>\n      <td>NaT</td>\n      <td>5.695395</td>\n      <td>3.056411</td>\n      <td>0.0</td>\n      <td>3.0</td>\n      <td>5.0</td>\n      <td>8.0</td>\n      <td>18.0</td>\n    </tr>\n    <tr>\n      <th>AC</th>\n      <td>1520.0</td>\n      <td>NaN</td>\n      <td>NaN</td>\n      <td>NaN</td>\n      <td>NaT</td>\n      <td>NaT</td>\n      <td>4.665789</td>\n      <td>2.752008</td>\n      <td>0.0</td>\n      <td>3.0</td>\n      <td>4.0</td>\n      <td>6.0</td>\n      <td>16.0</td>\n    </tr>\n    <tr>\n      <th>HY</th>\n      <td>1520.0</td>\n      <td>NaN</td>\n      <td>NaN</td>\n      <td>NaN</td>\n      <td>NaT</td>\n      <td>NaT</td>\n      <td>1.503947</td>\n      <td>1.208914</td>\n      <td>0.0</td>\n      <td>1.0</td>\n      <td>1.0</td>\n      <td>2.0</td>\n      <td>6.0</td>\n    </tr>\n    <tr>\n      <th>AY</th>\n      <td>1520.0</td>\n      <td>NaN</td>\n      <td>NaN</td>\n      <td>NaN</td>\n      <td>NaT</td>\n      <td>NaT</td>\n      <td>1.615789</td>\n      <td>1.216959</td>\n      <td>0.0</td>\n      <td>1.0</td>\n      <td>1.0</td>\n      <td>2.0</td>\n      <td>7.0</td>\n    </tr>\n    <tr>\n      <th>HR</th>\n      <td>1520.0</td>\n      <td>NaN</td>\n      <td>NaN</td>\n      <td>NaN</td>\n      <td>NaT</td>\n      <td>NaT</td>\n      <td>0.05</td>\n      <td>0.223975</td>\n      <td>0.0</td>\n      <td>0.0</td>\n      <td>0.0</td>\n      <td>0.0</td>\n      <td>2.0</td>\n    </tr>\n    <tr>\n      <th>AR</th>\n      <td>1520.0</td>\n      <td>NaN</td>\n      <td>NaN</td>\n      <td>NaN</td>\n      <td>NaT</td>\n      <td>NaT</td>\n      <td>0.066447</td>\n      <td>0.259499</td>\n      <td>0.0</td>\n      <td>0.0</td>\n      <td>0.0</td>\n      <td>0.0</td>\n      <td>2.0</td>\n    </tr>\n    <tr>\n      <th>B365H</th>\n      <td>1520.0</td>\n      <td>NaN</td>\n      <td>NaN</td>\n      <td>NaN</td>\n      <td>NaT</td>\n      <td>NaT</td>\n      <td>3.109053</td>\n      <td>2.601597</td>\n      <td>1.06</td>\n      <td>1.65</td>\n      <td>2.29</td>\n      <td>3.3</td>\n      <td>23.0</td>\n    </tr>\n    <tr>\n      <th>B365D</th>\n      <td>1520.0</td>\n      <td>NaN</td>\n      <td>NaN</td>\n      <td>NaN</td>\n      <td>NaT</td>\n      <td>NaT</td>\n      <td>4.3565</td>\n      <td>1.614897</td>\n      <td>3.0</td>\n      <td>3.4</td>\n      <td>3.75</td>\n      <td>4.5</td>\n      <td>17.0</td>\n    </tr>\n    <tr>\n      <th>B365A</th>\n      <td>1520.0</td>\n      <td>NaN</td>\n      <td>NaN</td>\n      <td>NaN</td>\n      <td>NaT</td>\n      <td>NaT</td>\n      <td>5.018349</td>\n      <td>4.847884</td>\n      <td>1.12</td>\n      <td>2.2</td>\n      <td>3.3</td>\n      <td>5.75</td>\n      <td>41.0</td>\n    </tr>\n    <tr>\n      <th>BWH</th>\n      <td>1520.0</td>\n      <td>NaN</td>\n      <td>NaN</td>\n      <td>NaN</td>\n      <td>NaT</td>\n      <td>NaT</td>\n      <td>3.035164</td>\n      <td>2.404857</td>\n      <td>1.05</td>\n      <td>1.65</td>\n      <td>2.25</td>\n      <td>3.3</td>\n      <td>21.0</td>\n    </tr>\n    <tr>\n      <th>BWD</th>\n      <td>1520.0</td>\n      <td>NaN</td>\n      <td>NaN</td>\n      <td>NaN</td>\n      <td>NaT</td>\n      <td>NaT</td>\n      <td>4.248954</td>\n      <td>1.464826</td>\n      <td>2.9</td>\n      <td>3.4</td>\n      <td>3.7</td>\n      <td>4.5</td>\n      <td>14.0</td>\n    </tr>\n    <tr>\n      <th>BWA</th>\n      <td>1520.0</td>\n      <td>NaN</td>\n      <td>NaN</td>\n      <td>NaN</td>\n      <td>NaT</td>\n      <td>NaT</td>\n      <td>4.829164</td>\n      <td>4.504842</td>\n      <td>1.13</td>\n      <td>2.2</td>\n      <td>3.3</td>\n      <td>5.5</td>\n      <td>41.0</td>\n    </tr>\n    <tr>\n      <th>IWH</th>\n      <td>1520.0</td>\n      <td>NaN</td>\n      <td>NaN</td>\n      <td>NaN</td>\n      <td>NaT</td>\n      <td>NaT</td>\n      <td>2.972007</td>\n      <td>2.221142</td>\n      <td>1.07</td>\n      <td>1.67</td>\n      <td>2.3</td>\n      <td>3.3</td>\n      <td>20.0</td>\n    </tr>\n    <tr>\n      <th>IWD</th>\n      <td>1520.0</td>\n      <td>NaN</td>\n      <td>NaN</td>\n      <td>NaN</td>\n      <td>NaT</td>\n      <td>NaT</td>\n      <td>4.154178</td>\n      <td>1.32532</td>\n      <td>2.7</td>\n      <td>3.35</td>\n      <td>3.6</td>\n      <td>4.4125</td>\n      <td>12.0</td>\n    </tr>\n    <tr>\n      <th>IWA</th>\n      <td>1520.0</td>\n      <td>NaN</td>\n      <td>NaN</td>\n      <td>NaN</td>\n      <td>NaT</td>\n      <td>NaT</td>\n      <td>4.621211</td>\n      <td>4.117684</td>\n      <td>1.12</td>\n      <td>2.2</td>\n      <td>3.2</td>\n      <td>5.2</td>\n      <td>30.0</td>\n    </tr>\n    <tr>\n      <th>PSH</th>\n      <td>1520.0</td>\n      <td>NaN</td>\n      <td>NaN</td>\n      <td>NaN</td>\n      <td>NaT</td>\n      <td>NaT</td>\n      <td>3.137066</td>\n      <td>2.540265</td>\n      <td>1.07</td>\n      <td>1.67</td>\n      <td>2.33</td>\n      <td>3.41</td>\n      <td>21.51</td>\n    </tr>\n    <tr>\n      <th>PSD</th>\n      <td>1520.0</td>\n      <td>NaN</td>\n      <td>NaN</td>\n      <td>NaN</td>\n      <td>NaT</td>\n      <td>NaT</td>\n      <td>4.391539</td>\n      <td>1.602419</td>\n      <td>2.95</td>\n      <td>3.45</td>\n      <td>3.79</td>\n      <td>4.66</td>\n      <td>14.96</td>\n    </tr>\n    <tr>\n      <th>PSA</th>\n      <td>1520.0</td>\n      <td>NaN</td>\n      <td>NaN</td>\n      <td>NaN</td>\n      <td>NaT</td>\n      <td>NaT</td>\n      <td>5.13852</td>\n      <td>5.011783</td>\n      <td>1.13</td>\n      <td>2.25</td>\n      <td>3.4</td>\n      <td>5.76</td>\n      <td>42.94</td>\n    </tr>\n    <tr>\n      <th>WHH</th>\n      <td>1520.0</td>\n      <td>NaN</td>\n      <td>NaN</td>\n      <td>NaN</td>\n      <td>NaT</td>\n      <td>NaT</td>\n      <td>3.076316</td>\n      <td>2.50372</td>\n      <td>1.05</td>\n      <td>1.65</td>\n      <td>2.3</td>\n      <td>3.3</td>\n      <td>21.0</td>\n    </tr>\n    <tr>\n      <th>WHD</th>\n      <td>1520.0</td>\n      <td>NaN</td>\n      <td>NaN</td>\n      <td>NaN</td>\n      <td>NaT</td>\n      <td>NaT</td>\n      <td>4.18898</td>\n      <td>1.449515</td>\n      <td>2.9</td>\n      <td>3.3</td>\n      <td>3.6</td>\n      <td>4.4</td>\n      <td>15.0</td>\n    </tr>\n    <tr>\n      <th>WHA</th>\n      <td>1520.0</td>\n      <td>NaN</td>\n      <td>NaN</td>\n      <td>NaN</td>\n      <td>NaT</td>\n      <td>NaT</td>\n      <td>4.99723</td>\n      <td>4.932745</td>\n      <td>1.12</td>\n      <td>2.2</td>\n      <td>3.25</td>\n      <td>5.5</td>\n      <td>46.0</td>\n    </tr>\n    <tr>\n      <th>VCH</th>\n      <td>1520.0</td>\n      <td>NaN</td>\n      <td>NaN</td>\n      <td>NaN</td>\n      <td>NaT</td>\n      <td>NaT</td>\n      <td>3.164329</td>\n      <td>2.703431</td>\n      <td>1.05</td>\n      <td>1.65</td>\n      <td>2.3</td>\n      <td>3.4</td>\n      <td>23.0</td>\n    </tr>\n    <tr>\n      <th>VCD</th>\n      <td>1520.0</td>\n      <td>NaN</td>\n      <td>NaN</td>\n      <td>NaN</td>\n      <td>NaT</td>\n      <td>NaT</td>\n      <td>4.310303</td>\n      <td>1.584444</td>\n      <td>2.9</td>\n      <td>3.4</td>\n      <td>3.7</td>\n      <td>4.6</td>\n      <td>15.0</td>\n    </tr>\n    <tr>\n      <th>VCA</th>\n      <td>1520.0</td>\n      <td>NaN</td>\n      <td>NaN</td>\n      <td>NaN</td>\n      <td>NaT</td>\n      <td>NaT</td>\n      <td>5.228309</td>\n      <td>5.398177</td>\n      <td>1.14</td>\n      <td>2.25</td>\n      <td>3.3</td>\n      <td>5.75</td>\n      <td>51.0</td>\n    </tr>\n    <tr>\n      <th>PSCH</th>\n      <td>1520.0</td>\n      <td>NaN</td>\n      <td>NaN</td>\n      <td>NaN</td>\n      <td>NaT</td>\n      <td>NaT</td>\n      <td>3.184967</td>\n      <td>2.630566</td>\n      <td>1.04</td>\n      <td>1.68</td>\n      <td>2.35</td>\n      <td>3.48</td>\n      <td>25.83</td>\n    </tr>\n    <tr>\n      <th>PSCD</th>\n      <td>1520.0</td>\n      <td>NaN</td>\n      <td>NaN</td>\n      <td>NaN</td>\n      <td>NaT</td>\n      <td>NaT</td>\n      <td>4.426493</td>\n      <td>1.786473</td>\n      <td>2.89</td>\n      <td>3.42</td>\n      <td>3.75</td>\n      <td>4.66</td>\n      <td>18.5</td>\n    </tr>\n    <tr>\n      <th>PSCA</th>\n      <td>1520.0</td>\n      <td>NaN</td>\n      <td>NaN</td>\n      <td>NaN</td>\n      <td>NaT</td>\n      <td>NaT</td>\n      <td>5.137711</td>\n      <td>5.115246</td>\n      <td>1.09</td>\n      <td>2.2475</td>\n      <td>3.385</td>\n      <td>5.5525</td>\n      <td>41.0</td>\n    </tr>\n  </tbody>\n</table>\n</div>"
     },
     "metadata": {},
     "execution_count": 42
    }
   ],
   "source": [
    "df.describe(include='all').T"
   ]
  },
  {
   "cell_type": "code",
   "execution_count": null,
   "metadata": {},
   "outputs": [],
   "source": []
  }
 ],
 "metadata": {
  "kernelspec": {
   "name": "python3",
   "display_name": "Python 3.8.5 64-bit ('base': conda)"
  },
  "language_info": {
   "codemirror_mode": {
    "name": "ipython",
    "version": 3
   },
   "file_extension": ".py",
   "mimetype": "text/x-python",
   "name": "python",
   "nbconvert_exporter": "python",
   "pygments_lexer": "ipython3",
   "version": "3.8.5"
  },
  "interpreter": {
   "hash": "9da1c12f6d354dd36d308cb51e3aa17755429bd06bf828d149e4579c59bb3701"
  }
 },
 "nbformat": 4,
 "nbformat_minor": 2
}